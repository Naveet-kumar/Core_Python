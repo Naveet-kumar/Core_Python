{
  "nbformat": 4,
  "nbformat_minor": 0,
  "metadata": {
    "colab": {
      "provenance": []
    },
    "kernelspec": {
      "name": "python3",
      "display_name": "Python 3"
    },
    "language_info": {
      "name": "python"
    }
  },
  "cells": [
    {
      "cell_type": "markdown",
      "source": [
        "##  Step 1: Basics Refresher (Variables, Data Types, Loops, Functions)"
      ],
      "metadata": {
        "id": "q86bCwUpOf7z"
      }
    },
    {
      "cell_type": "code",
      "source": [
        "# Basic of Python\n",
        "## Variables and Data Types\n",
        "\n",
        "a = \"Naveet\"\n",
        "b = 2\n",
        "c = 2.5\n",
        "\n",
        "print(a)\n",
        "print(b)\n",
        "print(c)"
      ],
      "metadata": {
        "colab": {
          "base_uri": "https://localhost:8080/"
        },
        "id": "h66LM8aeGx-5",
        "outputId": "f15489a8-d2c1-4702-e0c7-b363c05d6120"
      },
      "execution_count": 4,
      "outputs": [
        {
          "output_type": "stream",
          "name": "stdout",
          "text": [
            "Naveet\n",
            "2\n",
            "2.5\n"
          ]
        }
      ]
    },
    {
      "cell_type": "code",
      "source": [
        "# 2. Input & Output\n",
        "\n",
        "name = input(\"Enter your name : \")\n",
        "print(\"Your name is :\", name)"
      ],
      "metadata": {
        "colab": {
          "base_uri": "https://localhost:8080/"
        },
        "id": "CtS1dGrmJzcx",
        "outputId": "140971c2-2286-4394-bfd3-792885e58a99"
      },
      "execution_count": 6,
      "outputs": [
        {
          "output_type": "stream",
          "name": "stdout",
          "text": [
            "Enter your name : Navi\n",
            "Your name is : Navi\n"
          ]
        }
      ]
    },
    {
      "cell_type": "code",
      "source": [
        "# 3. Basic Arithmetic Operations\n",
        "\n",
        "a = 1\n",
        "b = 2\n",
        "print(a + b)\n",
        "print(a - b)\n",
        "print( a/b)\n",
        "print(a*b)"
      ],
      "metadata": {
        "colab": {
          "base_uri": "https://localhost:8080/"
        },
        "id": "y-wxQfJHKYay",
        "outputId": "f26302ae-ee14-4765-a516-965544a5a12a"
      },
      "execution_count": 10,
      "outputs": [
        {
          "output_type": "stream",
          "name": "stdout",
          "text": [
            "3\n",
            "-1\n",
            "0.5\n",
            "2\n"
          ]
        }
      ]
    },
    {
      "cell_type": "code",
      "source": [
        "# 4. Conditional Statements\n",
        "\n",
        "a = int(input(\"Enter the 1st number:\"))\n",
        "b = int(input(\"Enter the 2nd number:\"))\n",
        "if a > b:\n",
        "  print(\"A is greater\")\n",
        "elif a == b:\n",
        "  print(\"A is equal to b\")\n",
        "else:\n",
        "  print(\" B is Greater\")\n",
        "\n"
      ],
      "metadata": {
        "colab": {
          "base_uri": "https://localhost:8080/"
        },
        "id": "7GO9YLCcKsD_",
        "outputId": "7d6e6a1a-63d0-4147-df16-b385d3d4a7fe"
      },
      "execution_count": 15,
      "outputs": [
        {
          "output_type": "stream",
          "name": "stdout",
          "text": [
            "Enter the 1st number:21\n",
            "Enter the 2nd number:20\n",
            "A is greater\n"
          ]
        }
      ]
    },
    {
      "cell_type": "code",
      "source": [
        "# 5. Loops (for and while)\n",
        "for i in range (5):\n",
        "  print(i)\n",
        "\n",
        "\n"
      ],
      "metadata": {
        "colab": {
          "base_uri": "https://localhost:8080/"
        },
        "id": "vCYp-6u6LnYK",
        "outputId": "3e7159d8-d968-4446-820f-81b0891e2994"
      },
      "execution_count": 22,
      "outputs": [
        {
          "output_type": "stream",
          "name": "stdout",
          "text": [
            "0\n",
            "1\n",
            "2\n",
            "3\n",
            "4\n"
          ]
        }
      ]
    },
    {
      "cell_type": "code",
      "source": [
        "count = 0\n",
        "\n",
        "while count < 5:\n",
        "  print(\"Count:\", count)\n",
        "  count += 1"
      ],
      "metadata": {
        "colab": {
          "base_uri": "https://localhost:8080/"
        },
        "id": "oBjFAgpDMmv3",
        "outputId": "b46d8ee5-1152-4d87-e326-b8aa0c64ecbe"
      },
      "execution_count": 28,
      "outputs": [
        {
          "output_type": "stream",
          "name": "stdout",
          "text": [
            "Count: 0\n",
            "Count: 1\n",
            "Count: 2\n",
            "Count: 3\n",
            "Count: 4\n"
          ]
        }
      ]
    },
    {
      "cell_type": "code",
      "source": [
        "# 6. Functions\n",
        "def greet(name):\n",
        "  print(\"Hello:\", name)\n",
        "greet(input(\"Enter your name:\"))"
      ],
      "metadata": {
        "colab": {
          "base_uri": "https://localhost:8080/"
        },
        "id": "7T-JExdkNKIV",
        "outputId": "bf75f769-bbd2-4de1-9676-bd6ad15057e9"
      },
      "execution_count": 30,
      "outputs": [
        {
          "output_type": "stream",
          "name": "stdout",
          "text": [
            "Enter your name:Naveet\n",
            "Hello: Naveet\n"
          ]
        }
      ]
    },
    {
      "cell_type": "markdown",
      "source": [
        "## Step1: Project work"
      ],
      "metadata": {
        "id": "kX2VdTQmOrsy"
      }
    },
    {
      "cell_type": "markdown",
      "source": [
        "## 🎯 Mini Project: Simple Calculator\n",
        "\n",
        "Now, let's build a calculator that can:\n",
        "\n",
        "✅ Add\n",
        "✅ Subtract\n",
        "✅ Multiply\n",
        "✅ Divide\n",
        "\n",
        "**Step 1: Plan**\n",
        "\n",
        "*   Ask the user for two numbers.\n",
        "*   Ask the user to choose an operation (+, -, \\*, /).\n",
        "*   Perform the operation and display the result.\n",
        "*   Handle errors (like division by zero)."
      ],
      "metadata": {
        "id": "UC_UAd-zO3mA"
      }
    },
    {
      "cell_type": "code",
      "source": [
        "# Step 2: Code\n",
        "def calculator():\n",
        "  print(\"Welcome to simple calculator!\")\n",
        "# Taking input\n",
        "calculator()\n",
        "num1 = float(input(\"Enter the 1st number:\"))\n",
        "num2 = float(input(\"Enter the 2nd number:\"))\n",
        "# Choosing operation\n",
        "operations = input(\"Enter the operation (+, -, *, /):\")\n",
        "\n",
        "# performing calculation\n",
        "if operations == \"+\":\n",
        "  print(num1+num2)\n",
        "elif operations == \"-\":\n",
        "  print(num1-num2)\n",
        "elif operations == \"*\":\n",
        "  print(num1*num2)\n",
        "elif operations == \"/\":\n",
        "  if num2 != 0:\n",
        "    print(num1/num2)\n",
        "  else:\n",
        "    print(\"Division by zero is not allowed\")\n",
        "else:\n",
        "  print(\"Invalid operation\")\n",
        "\n"
      ],
      "metadata": {
        "colab": {
          "base_uri": "https://localhost:8080/"
        },
        "id": "mfbFEpvTO5p5",
        "outputId": "57ea77f0-9a18-4226-a87c-52391960c376"
      },
      "execution_count": 39,
      "outputs": [
        {
          "output_type": "stream",
          "name": "stdout",
          "text": [
            "Welcome to simple calculator!\n",
            "Enter the 1st number:10\n",
            "Enter the 2nd number:20\n",
            "Enter the operation (+, -, *, /):*\n",
            "200.0\n"
          ]
        }
      ]
    },
    {
      "cell_type": "markdown",
      "source": [
        "## 🎯 Mini Project: Table up to 10\n",
        "\n",
        "Now, let's create a table:\n",
        "\n",
        "* Concepts Used: Loops, Functions\n",
        "\n",
        "####  How It Works:\n",
        "\n",
        "* The user enters a number.\n",
        "* The program prints its multiplication table up to 10."
      ],
      "metadata": {
        "id": "j8L7ekiiUw8N"
      }
    },
    {
      "cell_type": "code",
      "source": [
        "def table1():\n",
        "  print(\"Your Table is as below:\")\n",
        "\n",
        "  num1 = int(input(\"Enter the Number:\"))\n",
        "  for i in range(1,11):\n",
        "    print(num1,\"*\",i, \"=\", num1*i)\n",
        "table1()"
      ],
      "metadata": {
        "colab": {
          "base_uri": "https://localhost:8080/"
        },
        "id": "BvKEcapSP6MT",
        "outputId": "79ee9142-2d08-4130-c09a-5d2cf54b630b"
      },
      "execution_count": 41,
      "outputs": [
        {
          "output_type": "stream",
          "name": "stdout",
          "text": [
            "Your Table is as below:\n",
            "Enter the Number:10\n",
            "10 * 1 = 10\n",
            "10 * 2 = 20\n",
            "10 * 3 = 30\n",
            "10 * 4 = 40\n",
            "10 * 5 = 50\n",
            "10 * 6 = 60\n",
            "10 * 7 = 70\n",
            "10 * 8 = 80\n",
            "10 * 9 = 90\n",
            "10 * 10 = 100\n"
          ]
        }
      ]
    },
    {
      "cell_type": "markdown",
      "source": [
        "## Step 2: Lists, Tuples, and Dictionaries\n",
        "#### Mini Project: To-Do List Manager (Store and manage tasks using lists and dictionaries)"
      ],
      "metadata": {
        "id": "hlyzoxxkYE47"
      }
    },
    {
      "cell_type": "code",
      "source": [
        "# ✅ Lists (Ordered, Mutable)\n",
        "name = [\"Naveet\",\"Dalip\",\"Rohit Bharadwaj\",\"Simran\"]\n",
        "name"
      ],
      "metadata": {
        "colab": {
          "base_uri": "https://localhost:8080/"
        },
        "id": "3OPO5Wo5XPcu",
        "outputId": "c5015ddb-6dd1-4b63-ca88-72e1125f097a"
      },
      "execution_count": 42,
      "outputs": [
        {
          "output_type": "execute_result",
          "data": {
            "text/plain": [
              "['Naveet', 'Dalip', 'Rohit Bharadwaj', 'Simran']"
            ]
          },
          "metadata": {},
          "execution_count": 42
        }
      ]
    },
    {
      "cell_type": "code",
      "source": [
        "# add new item in the list\n",
        "name.append(\"Sandeep\")\n",
        "name"
      ],
      "metadata": {
        "colab": {
          "base_uri": "https://localhost:8080/"
        },
        "id": "TQCmpVQCZEUQ",
        "outputId": "b6d323f8-2ef1-48d8-d7e6-31d2860a68c3"
      },
      "execution_count": 43,
      "outputs": [
        {
          "output_type": "execute_result",
          "data": {
            "text/plain": [
              "['Naveet', 'Dalip', 'Rohit Bharadwaj', 'Simran', 'Sandeep']"
            ]
          },
          "metadata": {},
          "execution_count": 43
        }
      ]
    },
    {
      "cell_type": "code",
      "source": [
        "# Deleting one item from the List\n",
        "name.remove(\"Dalip\")\n",
        "name"
      ],
      "metadata": {
        "colab": {
          "base_uri": "https://localhost:8080/"
        },
        "id": "oPgMH06uZbDO",
        "outputId": "bd05d382-be88-456a-e3f8-29ab7e5bda4a"
      },
      "execution_count": 44,
      "outputs": [
        {
          "output_type": "execute_result",
          "data": {
            "text/plain": [
              "['Naveet', 'Rohit Bharadwaj', 'Simran', 'Sandeep']"
            ]
          },
          "metadata": {},
          "execution_count": 44
        }
      ]
    },
    {
      "cell_type": "code",
      "source": [
        "# Inserting new item in the List\n",
        "\n",
        "name.insert(1,\"Dalip\")\n",
        "name"
      ],
      "metadata": {
        "colab": {
          "base_uri": "https://localhost:8080/"
        },
        "id": "4ERqXYNyZmWm",
        "outputId": "527f6fc4-1504-46ca-817b-c7f89a7fc2ea"
      },
      "execution_count": 62,
      "outputs": [
        {
          "output_type": "execute_result",
          "data": {
            "text/plain": [
              "['Naveet', 'Dalip', 'Rohit Bharadwaj', 'Simran', 'Dalip', 'Sandeep']"
            ]
          },
          "metadata": {},
          "execution_count": 62
        }
      ]
    },
    {
      "cell_type": "code",
      "source": [
        "# ✅ Tuples (Ordered, Immutable)\n",
        "name = (\"Naveet\",\"Dalip\",\"Rohit Bharadwaj\",\"Simran\")\n",
        "name"
      ],
      "metadata": {
        "colab": {
          "base_uri": "https://localhost:8080/"
        },
        "id": "cbXt8_NxZq9t",
        "outputId": "bbed1213-8795-4ba9-d49a-c7c646cebb5b"
      },
      "execution_count": 64,
      "outputs": [
        {
          "output_type": "execute_result",
          "data": {
            "text/plain": [
              "('Naveet', 'Dalip', 'Rohit Bharadwaj', 'Simran')"
            ]
          },
          "metadata": {},
          "execution_count": 64
        }
      ]
    },
    {
      "cell_type": "code",
      "source": [
        "# Checking position of the item in the tuple\n",
        "name.index(\"Dalip\")"
      ],
      "metadata": {
        "colab": {
          "base_uri": "https://localhost:8080/"
        },
        "id": "P-qw0eM_aQjd",
        "outputId": "7742a11f-a7a5-48c8-8327-afe675dfcbd2"
      },
      "execution_count": 67,
      "outputs": [
        {
          "output_type": "execute_result",
          "data": {
            "text/plain": [
              "1"
            ]
          },
          "metadata": {},
          "execution_count": 67
        }
      ]
    },
    {
      "cell_type": "code",
      "source": [
        "name.count((\"Simran\",\"Naveet\"))"
      ],
      "metadata": {
        "colab": {
          "base_uri": "https://localhost:8080/"
        },
        "id": "tl0Yb_Y9bEih",
        "outputId": "28383795-14c1-4cb7-f820-f76e4654d37b"
      },
      "execution_count": 71,
      "outputs": [
        {
          "output_type": "execute_result",
          "data": {
            "text/plain": [
              "0"
            ]
          },
          "metadata": {},
          "execution_count": 71
        }
      ]
    },
    {
      "cell_type": "code",
      "source": [
        "# ✅ Dictionaries (Key-Value Pairs, Mutable)\n",
        "name = {\"Name\": [\"Naveet\",\"Dalip\",\"Rohit Bharadwaj\",\"Simran\"],\"Age\": [20,30,31,32],\"City\":[\"Dinanagar\",\"Pathankot\",\"Pathankot\",\"Amritsir\"]}\n",
        "name"
      ],
      "metadata": {
        "colab": {
          "base_uri": "https://localhost:8080/"
        },
        "id": "zJdltfw1bS0n",
        "outputId": "6ea68efd-a8e2-48a3-c647-a13a86382e11"
      },
      "execution_count": 78,
      "outputs": [
        {
          "output_type": "execute_result",
          "data": {
            "text/plain": [
              "{'Name': ['Naveet', 'Dalip', 'Rohit Bharadwaj', 'Simran'],\n",
              " 'Age': [20, 30, 31, 32],\n",
              " 'City': ['Dinanagar', 'Pathankot', 'Pathankot', 'Amritsir']}"
            ]
          },
          "metadata": {},
          "execution_count": 78
        }
      ]
    },
    {
      "cell_type": "code",
      "source": [
        "# Update the Dictionaries\n",
        "name.update({\"Gender\":[\"Male\",\"Male\",\"Male\",\"Female\"]})\n",
        "name"
      ],
      "metadata": {
        "colab": {
          "base_uri": "https://localhost:8080/"
        },
        "id": "u1Wg6Z8xbyrH",
        "outputId": "d7baee86-95ef-487d-f1c4-13e79a5eb4b2"
      },
      "execution_count": 81,
      "outputs": [
        {
          "output_type": "execute_result",
          "data": {
            "text/plain": [
              "{'Name': ['Naveet', 'Dalip', 'Rohit Bharadwaj', 'Simran'],\n",
              " 'Age': [20, 30, 31, 32],\n",
              " 'City': ['Dinanagar', 'Pathankot', 'Pathankot', 'Amritsir'],\n",
              " 'Gender': ['Male', 'Male', 'Male', 'Female']}"
            ]
          },
          "metadata": {},
          "execution_count": 81
        }
      ]
    },
    {
      "cell_type": "markdown",
      "source": [
        "#### 1️⃣ To-Do List Manager: Project ✅\n",
        "\n",
        "Concepts Used: Lists, Loops, Functions\n",
        "\n",
        "🔹 How It Works:\n",
        "\n",
        "* The user can add tasks, remove tasks, and view the list.\n",
        "* The program runs in a loop until the user decides to exit."
      ],
      "metadata": {
        "id": "wudoEeNhh1l1"
      }
    },
    {
      "cell_type": "code",
      "source": [
        "def todo_list():\n",
        "  tasks = []\n",
        "\n",
        "  while True:\n",
        "    print(\"\\n1.Add Task\\n2. Remove Task\\n3. View Tasks\\n4. Exit\")\n",
        "    choice = input(\"Enter your choice (1/2/3/4):\")\n",
        "    if choice == \"1\":\n",
        "      tasks.append(input(\"Enter the task:\"))\n",
        "      print(\"Task has been added\")\n",
        "    elif choice == \"2\":\n",
        "      task = input(\"Enter the task to remove:\")\n",
        "      if task in tasks:\n",
        "        tasks.remove(task)\n",
        "        print(\"Task has been removed\")\n",
        "      else:\n",
        "        print(\"Task not found\")\n",
        "    elif choice == \"3\":\n",
        "      print(tasks)\n",
        "    elif choice == \"4\":\n",
        "      print(\"Exiting... Have productive day!\")\n",
        "      break\n",
        "    else:\n",
        "      print(\"Invalid choice\")\n",
        "todo_list()\n"
      ],
      "metadata": {
        "colab": {
          "base_uri": "https://localhost:8080/"
        },
        "id": "ji5M3NmHcoM7",
        "outputId": "bb28382d-4fc2-4005-cd99-6860c8cde335"
      },
      "execution_count": 89,
      "outputs": [
        {
          "output_type": "stream",
          "name": "stdout",
          "text": [
            "\n",
            "1.Add Task\n",
            "2. Remove Task\n",
            "3. View Tasks\n",
            "4. Exit\n",
            "Enter your choice (1/2/3/4):1\n",
            "Enter the task:Naveet\n",
            "Task has been added\n",
            "\n",
            "1.Add Task\n",
            "2. Remove Task\n",
            "3. View Tasks\n",
            "4. Exit\n",
            "Enter your choice (1/2/3/4):2\n",
            "Enter the task to remove:Naveet\n",
            "Task has been removed\n",
            "\n",
            "1.Add Task\n",
            "2. Remove Task\n",
            "3. View Tasks\n",
            "4. Exit\n",
            "Enter your choice (1/2/3/4):3\n",
            "[]\n",
            "\n",
            "1.Add Task\n",
            "2. Remove Task\n",
            "3. View Tasks\n",
            "4. Exit\n",
            "Enter your choice (1/2/3/4):4\n",
            "Exiting... Have productive day!\n"
          ]
        }
      ]
    },
    {
      "cell_type": "markdown",
      "source": [
        "## ✅ Exception Handling (Try & Except)"
      ],
      "metadata": {
        "id": "AHNvY6LgrWjF"
      }
    },
    {
      "cell_type": "code",
      "source": [
        "try:\n",
        "  result = 10/0\n",
        "except ZeroDivisionError:\n",
        "  print(\"Division by zero is not allowed\")"
      ],
      "metadata": {
        "colab": {
          "base_uri": "https://localhost:8080/"
        },
        "id": "ZG-9bhuKrZv9",
        "outputId": "54461934-e708-446f-caf4-bef23ebb655c"
      },
      "execution_count": 91,
      "outputs": [
        {
          "output_type": "stream",
          "name": "stdout",
          "text": [
            "Division by zero is not allowed\n"
          ]
        }
      ]
    },
    {
      "cell_type": "markdown",
      "source": [
        "## 🎯 Mini Projects\n",
        "\n",
        "1️⃣ Expense Tracker 💰\n",
        "\n",
        "**Concepts Used:** File Handling, Lists, Exception Handling\n",
        "\n",
        "🔹 How It Works:\n",
        "\n",
        "* The user adds expenses with a description and amount.\n",
        "* The data is stored in a file so it doesn’t reset when the program closes.\n",
        "* The user can view expenses and see the total amount spent."
      ],
      "metadata": {
        "id": "xpdyHLStrE1G"
      }
    },
    {
      "cell_type": "code",
      "source": [
        "def add_expense():\n",
        "  try:\n",
        "    description = input(\"Enter the Expense Description:\")\n",
        "    amount = float(input(\"Enter the Expense Amount:\"))\n",
        "\n",
        "    with open(\"expenses.txt\",\"a\") as file:\n",
        "      file.write(f\"{description} - {amount:.2f}\\n\")\n",
        "    print(\"Expenses has been added successfully!\")\n",
        "  except ValueError:\n",
        "    print(\"Invalid amount. Please enter a valid number.\")\n",
        "def view_expense():\n",
        "  try:\n",
        "    with open(\"expenses.txt\",\"r\") as file:\n",
        "      expenses = file.read()\n",
        "      print(\"Expenses:\")\n",
        "      print(expenses)\n",
        "  except FileNotFoundError:\n",
        "    print(\"No expenses found.\")\n",
        "while True:\n",
        "  print(\"\\n1. Add Expense\\n2. View Expenses\\n3. Exit\")\n",
        "  choice = input(\"Enter your choice (1\\ 2\\ 3)\")\n",
        "  if choice ==\"1\":\n",
        "    add_expense()\n",
        "  elif choice ==\"2\":\n",
        "    view_expense()\n",
        "  elif choice ==\"3\":\n",
        "    print(\"Exiting...\")\n",
        "    break\n",
        ""
      ],
      "metadata": {
        "colab": {
          "base_uri": "https://localhost:8080/"
        },
        "id": "Ytqs9mdjqRqW",
        "outputId": "6db9a40e-e68c-4ef8-b798-c1b0fb280165"
      },
      "execution_count": null,
      "outputs": [
        {
          "output_type": "stream",
          "name": "stdout",
          "text": [
            "\n",
            "1. Add Expense\n",
            "2. View Expenses\n",
            "3. Exit\n",
            "Enter your choice (1\\ 2\\ 3)2\n",
            "Expenses:\n",
            "Soap - $80.00\n",
            "Soap,80.0\n",
            "Soap - 80.00\n",
            "Soap - 80.00\n",
            "Gel - 200.00\n",
            "\n",
            "\n",
            "1. Add Expense\n",
            "2. View Expenses\n",
            "3. Exit\n"
          ]
        }
      ]
    },
    {
      "cell_type": "code",
      "source": [],
      "metadata": {
        "id": "3Mhb72EFtUa0"
      },
      "execution_count": null,
      "outputs": []
    }
  ]
}